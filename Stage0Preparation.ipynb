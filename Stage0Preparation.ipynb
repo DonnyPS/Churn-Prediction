{
 "cells": [
  {
   "cell_type": "code",
   "execution_count": null,
   "metadata": {
    "colab": {
     "base_uri": "https://localhost:8080/",
     "height": 38
    },
    "id": "c8XmLzJpxRg8",
    "outputId": "ca89a95b-9417-4ab0-f2e0-3f2667d42561"
   },
   "outputs": [
    {
     "data": {
      "text/html": [
       "<marquee style='width: 30%; color: blue;'><b>MOD (Mother of Dataset)</b></marquee>\n"
      ],
      "text/plain": [
       "<IPython.core.display.HTML object>"
      ]
     },
     "metadata": {},
     "output_type": "display_data"
    }
   ],
   "source": [
    "%%html\n",
    "<marquee style='width: 30%; color: blue;'><b>MOD (Mother of Dataset)</b></marquee>"
   ]
  },
  {
   "cell_type": "markdown",
   "metadata": {
    "id": "ngQHm_uIpZnm"
   },
   "source": [
    "# Churn Prediction\n",
    "### Oleh Kelompok MOD (Mother of Dataset):\n",
    " * Ashadah (ashadah44@gmail.com)\n",
    " * Christoforus Venus (venus001@binus.ac.id)\n",
    " * Dicky Novanda Syaifullah (dr.dicno@gmail.com)\n",
    " * Donny Prayudha Stannia (donny2ndgen@gmail.com)\n",
    " * Jason Joseph Tjiadi (jasonjosephtjiadi@gmail.com)\n",
    " * Ryan Setiawan (koalaozzie15@gmail.com)\n",
    " * Syafiqa Pramunadipta (syafiqapramuna@gmail.com)\n",
    " * Tri Oktavia Saraswati (strioktavia@gmail.com)"
   ]
  },
  {
   "cell_type": "markdown",
   "metadata": {
    "id": "D_jih_gZChGP"
   },
   "source": [
    "## CRISP-DM (Cross Industry Standard Process for Data Mining) Methodology \n",
    "Metodologi CRISP-DM menyediakan pendekatan terstruktur untuk merencanakan proyek data mining, yang biasa juga digunakan untuk proyek data science dalam hal ini digunakan untuk memecahkan masalah Churn Prediction.\n",
    "\n",
    "Enam langkah pada metodologi CRIPSP-DM adalah:\n",
    "1.  **Business understanding**: berfokus pada pemahaman tujuan dan persyaratan proyek dari perspektif bisnis, dan kemudian menerjemahkan informasi ini ke dalam definisi masalah Ilmu Data.\n",
    "2.  **Data understanding**: berfokus pada pengumpulan dan pengenalan data; ini relevan untuk mengidentifikasi masalah kualitas data, menemukan wawasan pertama ke dalam data dan membentuk hipotesis.\n",
    "3.  **Data preparation**: bertujuan untuk mengubah data mentah menjadi kumpulan data akhir yang dapat digunakan sebagai input untuk teknik pemodelan (misalnya, algoritma Machine Learning).\n",
    "4.  **Modeling**: melibatkan penerapan teknik pemodelan yang berbeda untuk dataset untuk menghasilkan satu set calon model.\n",
    "5.  **Evaluation**: setelah model dibangun, model tersebut perlu diuji untuk memastikan model tersebut digeneralisasikan terhadap data yang tidak terlihat dan bahwa semua tujuan bisnis utama telah dipertimbangkan (misalnya, model akhir harus adil, dapat diinterpretasikan oleh manusia, dan mencapai akurasi X % lebih tinggi dari solusi klien saat ini). Hasil dari tahap ini adalah model juara.\n",
    "6.  **Deployment**: model juara dikerahkan ke dalam produksi sehingga dapat digunakan untuk membuat prediksi pada data yang tidak terlihat. Semua langkah persiapan data disertakan sehingga model akan memperlakukan data mentah baru dengan cara yang sama seperti selama pengembangan model.\n",
    "\n"
   ]
  },
  {
   "cell_type": "markdown",
   "metadata": {
    "id": "MB8M1Eh5GAoQ"
   },
   "source": [
    "# Business Understanding"
   ]
  },
  {
   "cell_type": "markdown",
   "metadata": {
    "id": "93JwM8ea7dZs"
   },
   "source": [
    "### Problem Statement: \n",
    "Sebuah perusahaan ecommerce ingin  memprediksi churn rate dan mempertahankan konsumen agar mereka tetap setia membeli barang dari perusahaan mereka.\n",
    "\n",
    "### Goal:\n",
    "Pelanggan adalah aset yang paling penting dari semua jenis bisnis. Prospek usaha hanya mungkin dapat dilakukan dengan kehadiran pelanggan yang puas yang selalu setia dengan perusahaan. Untuk alasan ini, perusahaan harus merencanakan dan menerapkan strategi untuk menciptakan pelanggan,umumnya dikenal sebagai Customer Relationship Management (CRM).\n",
    "Customer Relationship Management (CRM) merupakan strategi bisnis yang bertujuan untuk mengelola hubungan dengan pelanggan yang memadukan proses antara manusia dan teknologi. Sistem CRM bertujuan untuk membantu, mempertahankan, mengelola, dan meningkatkan hubungan pelanggan setia dan langgeng atau di sebut juga dengan proses manejemen Churn.\n",
    "Perusahaan perlu melakukan prediksi untuk menentukan mana pelanggan yang loyal dan tidak loyal, sehingga nantinya perusahaan dapat menentukan strategi yang tepat untuk mengatasi churn rate yang tinggi dan bagaimana mempertahankan pelanggan.\n",
    "\n",
    "### Business metric:\n",
    "Customer Churn (Churn) mengacu pada hilangnya pelanggan yang mendaftar ke paket berbasis langganan. Atau bisa juga berlaku untuk pelanggan yang sering membeli dari perusahaan lalu berhenti membeli.\n",
    "Churn rate adalah persentase pelanggan yang tidak memperpanjang langganan atau berhenti membeli selama periode waktu tertentu, seperti sebulan, triwulan atau setahun.\n",
    "\n",
    "### Objective:\n",
    "Churn prediction bertujuan untuk memprediksi peluang seorang pelanggan untuk churn sebelum pelanggan tersebut benar-benar melakukannya, dengan demikian perusahaan bisa memberikan treatment untuk meminimalisir kemungkinan mereka beralih ke perusahaan lain. Prediksi akan dilakukan dengan menggunakan machine learning dengan sebuah algoritma supervised learning yang akan mengklasifikasikan pelanggan menjadi churn atau tidak churn di masa mendatang.\n",
    "Tujuan akhir adalah mengurangi jumlah pelanggan yang beralih ke perusahaan lain atau berhenti membeli produk dari perusahaan dengan menggunakan machine learning untuk melakukan prediksi churn. Ini penting karena semakin tinggi churn rate, semakin kecil revenue yang akan perusahaan dapatkan."
   ]
  }
 ],
 "metadata": {
  "colab": {
   "collapsed_sections": [
    "sBDOgXgxSYBx",
    "k94bcNvwSu-Y",
    "JKO6rjSJuO3P",
    "dgUaHCMx_plW",
    "ma_is9mFU-xA",
    "3eYA2uBpemcn",
    "vL3j8QqOQbQQ",
    "JjHBDhTbQheN",
    "z9BbwxoUQkWM",
    "VmUmBdNV-SeC"
   ],
   "provenance": []
  },
  "kernelspec": {
   "display_name": "Python 3 (ipykernel)",
   "language": "python",
   "name": "python3"
  },
  "language_info": {
   "codemirror_mode": {
    "name": "ipython",
    "version": 3
   },
   "file_extension": ".py",
   "mimetype": "text/x-python",
   "name": "python",
   "nbconvert_exporter": "python",
   "pygments_lexer": "ipython3",
   "version": "3.9.12"
  }
 },
 "nbformat": 4,
 "nbformat_minor": 1
}
